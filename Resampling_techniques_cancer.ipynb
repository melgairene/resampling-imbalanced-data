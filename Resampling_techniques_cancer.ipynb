{
  "nbformat": 4,
  "nbformat_minor": 0,
  "metadata": {
    "colab": {
      "name": "Project_CS680_Cancer.ipynb",
      "provenance": [],
      "collapsed_sections": [],
      "toc_visible": true
    },
    "kernelspec": {
      "name": "python3",
      "display_name": "Python 3"
    },
    "language_info": {
      "name": "python"
    }
  },
  "cells": [
    {
      "cell_type": "code",
      "metadata": {
        "colab": {
          "base_uri": "https://localhost:8080/"
        },
        "id": "HlTIfM_4AMJx",
        "outputId": "8ba6de40-dcda-4caf-f959-fd09d9693257"
      },
      "source": [
        "!pip install -U imbalanced-learn"
      ],
      "execution_count": null,
      "outputs": [
        {
          "output_type": "stream",
          "text": [
            "Requirement already up-to-date: imbalanced-learn in /usr/local/lib/python3.7/dist-packages (0.8.0)\n",
            "Requirement already satisfied, skipping upgrade: numpy>=1.13.3 in /usr/local/lib/python3.7/dist-packages (from imbalanced-learn) (1.19.5)\n",
            "Requirement already satisfied, skipping upgrade: scikit-learn>=0.24 in /usr/local/lib/python3.7/dist-packages (from imbalanced-learn) (0.24.1)\n",
            "Requirement already satisfied, skipping upgrade: joblib>=0.11 in /usr/local/lib/python3.7/dist-packages (from imbalanced-learn) (1.0.1)\n",
            "Requirement already satisfied, skipping upgrade: scipy>=0.19.1 in /usr/local/lib/python3.7/dist-packages (from imbalanced-learn) (1.4.1)\n",
            "Requirement already satisfied, skipping upgrade: threadpoolctl>=2.0.0 in /usr/local/lib/python3.7/dist-packages (from scikit-learn>=0.24->imbalanced-learn) (2.1.0)\n"
          ],
          "name": "stdout"
        }
      ]
    },
    {
      "cell_type": "markdown",
      "metadata": {
        "id": "eypT7BurSay1"
      },
      "source": [
        "# Minimally exploring the breast-cancer data\n",
        "\n",
        "\n",
        "Class Distribution:\n",
        "\n",
        "- no-recurrence-events: 201 instances\n",
        "- recurrence-events: 85 instances\n"
      ]
    },
    {
      "cell_type": "code",
      "metadata": {
        "colab": {
          "base_uri": "https://localhost:8080/"
        },
        "id": "z56RHKJHR6gp",
        "outputId": "d22481cd-0138-4427-eb08-3f498b6ac672"
      },
      "source": [
        "import pandas as pd\n",
        "# reading csv files\n",
        "headers =[\"recurrence\", \"age\", \"menopause\", \"tumor-size\", \"inv-nodes\",\n",
        "           \"node-caps\", \"deg-malig\", \"breast\", \"breast-quad\",\n",
        "           \"irradiant\"]\n",
        "cancer = pd.read_csv('breast-cancer.data', sep=\",\", \n",
        "                     header = None,names=headers, na_values=\"?\" )\n",
        "\n",
        "\n",
        "cleanup = {\"recurrence\": {\"no-recurrence-events\": 0, \"recurrence-events\": 1},\n",
        "           \"age\": {\"10-19\": 10, \"20-29\": 20, \"30-39\": 30, \"40-49\": 40,\n",
        "                   \"50-59\": 50, \"60-69\": 60, \"70-79\": 70, \"80-89\": 80, \"90-99\": 90},\n",
        "           \"menopause\": {\"premeno\": 0, \"lt40\":1, \"ge40\":2},\n",
        "           \"tumor-size\": {\"0-4\": 0, \"5-9\":5, \"10-14\":10, \"15-19\":15, \"20-24\":20, \n",
        "                         \"25-29\":25, \"30-34\":30, \"35-39\":35, \"40-44\":40,\n",
        "                          \"45-49\":45, \"50-54\":50, \"55-59\":55},\n",
        "           \"inv-nodes\": {\"0-2\": 0, \"3-5\":3, \"6-8\":6, \"9-11\":9, \"12-14\":12, \n",
        "                         \"15-17\":15, \"18-20\":18, \"21-23\":21, \"24-26\":24,\n",
        "                         \"27-29\":27, \"30-32\":30, \"33-35\":33, \"36-39\":36},\n",
        "           \"node-caps\": {\"yes\":1, \"no\":0},\n",
        "           \"breast\": {\"left\":0, \"right\":1},\n",
        "           \"breast-quad\": {\"left_up\":-2, \"left_low\":-1, \n",
        "                           \"right_up\":1,\t\"right_low\":2, \"central\":0},\n",
        "           \"irradiant\": {\"yes\":1, \"no\":0}}\n",
        "\n",
        "cancer = cancer.replace(cleanup).dropna()\n",
        "\n",
        "print(cancer)"
      ],
      "execution_count": null,
      "outputs": [
        {
          "output_type": "stream",
          "text": [
            "     recurrence  age  menopause  ...  breast  breast-quad  irradiant\n",
            "0             0   30          0  ...       0         -1.0          0\n",
            "1             0   40          0  ...       1          1.0          0\n",
            "2             0   40          0  ...       0         -1.0          0\n",
            "3             0   60          2  ...       1         -2.0          0\n",
            "4             0   40          0  ...       1          2.0          0\n",
            "..          ...  ...        ...  ...     ...          ...        ...\n",
            "281           1   30          0  ...       0         -2.0          0\n",
            "282           1   30          0  ...       0         -2.0          1\n",
            "283           1   60          2  ...       1         -2.0          0\n",
            "284           1   40          2  ...       0         -1.0          0\n",
            "285           1   50          2  ...       0         -1.0          0\n",
            "\n",
            "[277 rows x 10 columns]\n"
          ],
          "name": "stdout"
        }
      ]
    },
    {
      "cell_type": "markdown",
      "metadata": {
        "id": "uv6yH86O7ajm"
      },
      "source": [
        "### Import libraries"
      ]
    },
    {
      "cell_type": "code",
      "metadata": {
        "id": "1ijsgLF3WxRI"
      },
      "source": [
        "from sklearn.neighbors import KNeighborsClassifier\n",
        "from sklearn.model_selection import train_test_split\n",
        "from sklearn.metrics import roc_curve\n",
        "from sklearn.metrics import auc, accuracy_score\n",
        "import matplotlib.pyplot as plt\n",
        "import numpy as np\n",
        "\n",
        "\n",
        "from imblearn.over_sampling import RandomOverSampler\n",
        "from imblearn.under_sampling import RandomUnderSampler\n",
        "from imblearn.under_sampling import NeighbourhoodCleaningRule\n",
        "from warnings import simplefilter\n",
        "from imblearn.under_sampling import TomekLinks\n",
        "from imblearn.over_sampling import SMOTE\n",
        "\n",
        "\n",
        "\n",
        "from warnings import simplefilter\n",
        "# ignore all future warnings\n",
        "simplefilter(action='ignore', category=FutureWarning)\n"
      ],
      "execution_count": null,
      "outputs": []
    },
    {
      "cell_type": "markdown",
      "metadata": {
        "id": "6umTfdhUlMa_"
      },
      "source": [
        "We split the data in 80-20 proportion and preprocess:"
      ]
    },
    {
      "cell_type": "code",
      "metadata": {
        "id": "L4EyXW_Ozt0x"
      },
      "source": [
        "from sklearn import preprocessing\n",
        "X = cancer.drop('recurrence', axis=1)\n",
        "y= cancer['recurrence']\n",
        "X_train, X_test, y_train, y_test = train_test_split(X, y, test_size=0.2, random_state=11)\n",
        "\n",
        "scaler = preprocessing.StandardScaler().fit(X_train)\n",
        "\n",
        "X_train = scaler.transform(X_train)\n",
        "X_test = scaler.transform(X_test)"
      ],
      "execution_count": null,
      "outputs": []
    },
    {
      "cell_type": "markdown",
      "metadata": {
        "id": "I-yahfqidlxX"
      },
      "source": [
        "# Functions to test resampling techniques"
      ]
    },
    {
      "cell_type": "code",
      "metadata": {
        "id": "aCv-c88mltdQ"
      },
      "source": [
        "def testResamplingTechniques(model, resampling, X_train, y_train, X_test, y_test,niter=1):\n",
        "  \n",
        "  if resampling == \"none\": \n",
        "    model2 = model\n",
        "    model2.fit(X_train,y_train)\n",
        "    y_scores = model2.predict_proba(X_test)\n",
        "    fpr, tpr, threshold = roc_curve(y_test, y_scores[:, 1])\n",
        "   \n",
        "    \n",
        "    y_predict= model2.predict(X_test)\n",
        "    acc = accuracy_score(y_test,y_predict)\n",
        "    \n",
        "    aucc = auc(fpr, tpr)\n",
        "    \n",
        "    \n",
        "    return acc, aucc\n",
        "  \n",
        "  else: \n",
        "    accVec = []\n",
        "    fprVec = []\n",
        "    tprVec = []\n",
        "    aucVec = []\n",
        "\n",
        "    for i in range(niter):\n",
        "\n",
        "      Xmod, ymod = resampling.fit_resample(X_train, y_train) \n",
        "      model2 = model\n",
        "      \n",
        "      model2.fit(Xmod,ymod)\n",
        "    \n",
        "      y_scores = model2.predict_proba(X_test)\n",
        "      fpr, tpr, threshold = roc_curve(y_test, y_scores[:, 1])\n",
        "      #fprVec.append(fpr)\n",
        "      #tprVec.append(tpr)\n",
        "      aucVec.append(auc(fpr, tpr))\n",
        "    \n",
        "      y_predict= model2.predict(X_test)\n",
        "      acc = accuracy_score(y_test, y_predict)\n",
        "      accVec.append(acc)\n",
        "  \n",
        "    acc = np.mean(accVec)\n",
        "    #print(\"here\")\n",
        "    #tpr = np.mean(tprVec, axis=0)\n",
        "    #fpr = np.mean(fprVec, axis=0)\n",
        "    aucc = np.mean(aucVec)\n",
        "    \n",
        "    return acc, aucc\n",
        "\n",
        "  \n",
        "  "
      ],
      "execution_count": null,
      "outputs": []
    },
    {
      "cell_type": "code",
      "metadata": {
        "id": "KCUkQCdcwIcc"
      },
      "source": [
        "def selectTechnique(resname, perc):\n",
        "  if resname == \"none\":  \n",
        "    resampling = \"none\"\n",
        "  \n",
        "  if resname == \"oversample\": \n",
        "    resampling = RandomOverSampler(sampling_strategy='minority')\n",
        "    resampling = RandomOverSampler(sampling_strategy=perc)\n",
        "  \n",
        "  if resname == \"undersample\": \n",
        "    resampling = RandomUnderSampler(sampling_strategy='majority')\n",
        "    resampling = RandomUnderSampler(sampling_strategy=perc)\n",
        "  \n",
        "  if resname == \"NCL\": \n",
        "    resampling = NeighbourhoodCleaningRule()\n",
        "  \n",
        "  if resname == \"Tomek\":\n",
        "    resampling =  TomekLinks()\n",
        "  \n",
        "  if resname == \"smote\":\n",
        "    resampling = SMOTE(sampling_strategy='minority')\n",
        "    resampling = SMOTE(sampling_strategy=perc)\n",
        "  \n",
        "  return resampling"
      ],
      "execution_count": null,
      "outputs": []
    },
    {
      "cell_type": "markdown",
      "metadata": {
        "id": "UayEyGKo4Bvn"
      },
      "source": [
        "## Ratios for  Tomek Links and NCL change my data:"
      ]
    },
    {
      "cell_type": "code",
      "metadata": {
        "colab": {
          "base_uri": "https://localhost:8080/"
        },
        "id": "Aj0IbkVl4ApF",
        "outputId": "9c337245-302c-4107-f87a-f5db195b7609"
      },
      "source": [
        "from collections import Counter\n",
        "\n",
        "print(Counter(y_train))\n",
        "print(\"Ratio for no resampling is:\", 64 /(157))\n",
        "\n",
        "X_aux, y_aux = TomekLinks().fit_resample(X_train, y_train) \n",
        "print(Counter(y_aux))\n",
        "print(\"Ratio for Tomek Link is:\", 64 /(144))\n",
        "\n",
        "X_aux, y_aux = NeighbourhoodCleaningRule().fit_resample(X_train, y_train) \n",
        "print(Counter(y_aux))\n",
        "print(\"Ratio for NCL is:\", 64 /(83))"
      ],
      "execution_count": null,
      "outputs": [
        {
          "output_type": "stream",
          "text": [
            "Counter({0: 157, 1: 64})\n",
            "Ratio for no resampling is: 0.40764331210191085\n",
            "Counter({0: 144, 1: 64})\n",
            "Ratio for Tomek Link is: 0.4444444444444444\n",
            "Counter({0: 83, 1: 64})\n",
            "Ratio for NCL is: 0.7710843373493976\n"
          ],
          "name": "stdout"
        }
      ]
    },
    {
      "cell_type": "markdown",
      "metadata": {
        "id": "qHwZyebFXPfg"
      },
      "source": [
        "## Knn\n",
        "\n",
        "https://stackoverflow.com/questions/52910061/implementing-roc-curves-for-k-nn-machine-learning-algorithm-using-python-and-sci"
      ]
    },
    {
      "cell_type": "code",
      "metadata": {
        "id": "uU9DGqC25AD9"
      },
      "source": [
        "def ResultsRatiokNN(perc, kinit, kfinal, step):\n",
        "  dfAcc = pd.DataFrame(columns=(\"none\", \"oversample\", \"undersample\", \"NCL\", \"Tomek\", \"smote\"))\n",
        "  dfAUC = pd.DataFrame(columns=(\"none\", \"oversample\", \"undersample\", \"NCL\", \"Tomek\", \"smote\"))\n",
        "\n",
        "  resTechniques = [\"none\", \"oversample\", \"undersample\", \"NCL\", \"Tomek\", \"smote\"]\n",
        "\n",
        "\n",
        "  for k in range(kinit, kfinal+1, step):\n",
        "    model = KNeighborsClassifier(n_neighbors = k)\n",
        "    accVector = []\n",
        "    aucVector = []\n",
        "    for res in resTechniques:\n",
        "    #print(res)\n",
        "      resampling = selectTechnique(res, perc)\n",
        "  \n",
        "      [acc, aucc] = testResamplingTechniques(model, resampling, X_train, y_train, X_test, y_test, niter=100)\n",
        "      accVector.append(acc)\n",
        "      aucVector.append(aucc)\n",
        "  \n",
        "    dfAcc.loc[k] = accVector\n",
        "    dfAUC.loc[k] = aucVector\n",
        "  \n",
        "  return dfAcc, dfAUC"
      ],
      "execution_count": null,
      "outputs": []
    },
    {
      "cell_type": "markdown",
      "metadata": {
        "id": "W_WQUXw14Wdw"
      },
      "source": [
        "We explore the performance of the KNN for different ration between the majority and minority: "
      ]
    },
    {
      "cell_type": "code",
      "metadata": {
        "colab": {
          "base_uri": "https://localhost:8080/"
        },
        "id": "b6xFNqxO86fb",
        "outputId": "d3f0b019-a8c6-436f-89da-7d68e4055e44"
      },
      "source": [
        "[dfAcc, dfAUC] = ResultsRatiokNN(perc = 0.6, kinit=1, kfinal=10, step=1)\n",
        "print(\"Data set for accuracy\") #row is number of neighbours\n",
        "print(dfAcc)\n",
        "print(\"Data set for AUC\")\n",
        "print(dfAUC)"
      ],
      "execution_count": null,
      "outputs": [
        {
          "output_type": "stream",
          "text": [
            "Data set for accuracy\n",
            "        none  oversample  undersample       NCL     Tomek     smote\n",
            "1   0.642857    0.625357     0.608393  0.571429  0.660714  0.618214\n",
            "2   0.732143    0.694286     0.698214  0.660714  0.750000  0.671429\n",
            "3   0.625000    0.617500     0.626607  0.607143  0.607143  0.608750\n",
            "4   0.750000    0.661071     0.705893  0.660714  0.732143  0.645000\n",
            "5   0.678571    0.627500     0.645179  0.607143  0.660714  0.617679\n",
            "6   0.714286    0.674464     0.708571  0.696429  0.714286  0.658393\n",
            "7   0.732143    0.637500     0.683214  0.642857  0.678571  0.615357\n",
            "8   0.714286    0.674107     0.676786  0.660714  0.696429  0.641071\n",
            "9   0.678571    0.643571     0.668750  0.607143  0.678571  0.626607\n",
            "10  0.696429    0.666071     0.715714  0.696429  0.714286  0.647143\n",
            "Data set for AUC\n",
            "        none  oversample  undersample       NCL     Tomek     smote\n",
            "1   0.610860    0.604932     0.597066  0.609351  0.656863  0.600468\n",
            "2   0.678733    0.659457     0.627285  0.663650  0.686275  0.641931\n",
            "3   0.599548    0.620837     0.622828  0.645551  0.595023  0.609698\n",
            "4   0.616139    0.622323     0.638507  0.650830  0.647059  0.606244\n",
            "5   0.659879    0.652021     0.640551  0.644042  0.662142  0.639170\n",
            "6   0.642534    0.653756     0.623469  0.634992  0.651584  0.639759\n",
            "7   0.631222    0.633273     0.626305  0.635747  0.614630  0.624231\n",
            "8   0.628205    0.628484     0.624608  0.659879  0.664404  0.617903\n",
            "9   0.638763    0.625038     0.632677  0.642534  0.641026  0.621772\n",
            "10  0.624434    0.625950     0.633597  0.667421  0.633484  0.622376\n"
          ],
          "name": "stdout"
        }
      ]
    },
    {
      "cell_type": "code",
      "metadata": {
        "colab": {
          "base_uri": "https://localhost:8080/"
        },
        "id": "udZq9fCk9TOY",
        "outputId": "dfb82a6b-5aa1-4e57-9284-ec31340d0f02"
      },
      "source": [
        "[dfAcc, dfAUC] = ResultsRatiokNN(perc = 0.8, kinit=1, kfinal=10, step=1)\n",
        "print(\"Data set for accuracy\") #row is number of neighbours \n",
        "print(dfAcc)\n",
        "print(\"Data set for AUC\")\n",
        "print(dfAUC)"
      ],
      "execution_count": null,
      "outputs": [
        {
          "output_type": "stream",
          "text": [
            "Data set for accuracy\n",
            "        none  oversample  undersample       NCL     Tomek     smote\n",
            "1   0.642857    0.628214     0.587679  0.571429  0.660714  0.603571\n",
            "2   0.732143    0.668036     0.675357  0.660714  0.750000  0.630536\n",
            "3   0.625000    0.617143     0.591429  0.607143  0.607143  0.598036\n",
            "4   0.750000    0.646250     0.676429  0.660714  0.732143  0.616071\n",
            "5   0.678571    0.602857     0.601250  0.607143  0.660714  0.593393\n",
            "6   0.714286    0.648750     0.677143  0.696429  0.714286  0.625714\n",
            "7   0.732143    0.607857     0.648929  0.642857  0.678571  0.591964\n",
            "8   0.714286    0.633214     0.656786  0.660714  0.696429  0.607500\n",
            "9   0.678571    0.617500     0.625357  0.607143  0.678571  0.611250\n",
            "10  0.696429    0.635893     0.696250  0.696429  0.714286  0.623571\n",
            "Data set for AUC\n",
            "        none  oversample  undersample       NCL     Tomek     smote\n",
            "1   0.610860    0.606154     0.597790  0.609351  0.656863  0.589291\n",
            "2   0.678733    0.651893     0.621259  0.663650  0.686275  0.620588\n",
            "3   0.599548    0.629359     0.619442  0.645551  0.595023  0.608658\n",
            "4   0.616139    0.627285     0.634721  0.650830  0.647059  0.604140\n",
            "5   0.659879    0.644193     0.619585  0.644042  0.662142  0.632655\n",
            "6   0.642534    0.656063     0.617843  0.634992  0.651584  0.631237\n",
            "7   0.631222    0.641395     0.636561  0.635747  0.614630  0.628643\n",
            "8   0.628205    0.629442     0.632941  0.659879  0.664404  0.620294\n",
            "9   0.638763    0.627247     0.640739  0.642534  0.641026  0.618658\n",
            "10  0.624434    0.625219     0.645905  0.667421  0.633484  0.613462\n"
          ],
          "name": "stdout"
        }
      ]
    },
    {
      "cell_type": "code",
      "metadata": {
        "colab": {
          "base_uri": "https://localhost:8080/"
        },
        "id": "PRLK4fdd9WUW",
        "outputId": "3ea4e81e-1165-4133-a3cf-7da555fa3d69"
      },
      "source": [
        "[dfAcc, dfAUC] = ResultsRatiokNN(perc = 1, kinit=1, kfinal=10, step=1)\n",
        "print(\"Data set for accuracy\") #row is number of neighbours \n",
        "print(dfAcc)\n",
        "print(\"Data set for AUC\")\n",
        "print(dfAUC)"
      ],
      "execution_count": null,
      "outputs": [
        {
          "output_type": "stream",
          "text": [
            "Data set for accuracy\n",
            "        none  oversample  undersample       NCL     Tomek     smote\n",
            "1   0.642857    0.631607     0.571607  0.571429  0.660714  0.602500\n",
            "2   0.732143    0.661250     0.666786  0.660714  0.750000  0.620179\n",
            "3   0.625000    0.605893     0.575536  0.607143  0.607143  0.595000\n",
            "4   0.750000    0.624821     0.641964  0.660714  0.732143  0.604821\n",
            "5   0.678571    0.573036     0.568750  0.607143  0.660714  0.566071\n",
            "6   0.714286    0.609107     0.653036  0.696429  0.714286  0.600893\n",
            "7   0.732143    0.593750     0.611964  0.642857  0.678571  0.573929\n",
            "8   0.714286    0.614286     0.625893  0.660714  0.696429  0.596429\n",
            "9   0.678571    0.607679     0.589464  0.607143  0.678571  0.602143\n",
            "10  0.696429    0.619821     0.669107  0.696429  0.714286  0.614286\n",
            "Data set for AUC\n",
            "        none  oversample  undersample       NCL     Tomek     smote\n",
            "1   0.610860    0.609751     0.601018  0.609351  0.656863  0.595490\n",
            "2   0.678733    0.655181     0.621742  0.663650  0.686275  0.618635\n",
            "3   0.599548    0.636629     0.620551  0.645551  0.595023  0.607270\n",
            "4   0.616139    0.631161     0.618582  0.650830  0.647059  0.606629\n",
            "5   0.659879    0.636463     0.620860  0.644042  0.662142  0.616802\n",
            "6   0.642534    0.642979     0.622066  0.634992  0.651584  0.619947\n",
            "7   0.631222    0.644502     0.634065  0.635747  0.614630  0.620241\n",
            "8   0.628205    0.640513     0.639525  0.659879  0.664404  0.618446\n",
            "9   0.638763    0.627979     0.645769  0.642534  0.641026  0.620083\n",
            "10  0.624434    0.621810     0.652692  0.667421  0.633484  0.618017\n"
          ],
          "name": "stdout"
        }
      ]
    },
    {
      "cell_type": "markdown",
      "metadata": {
        "id": "VgvBVcQu6kvE"
      },
      "source": [
        "## SVM"
      ]
    },
    {
      "cell_type": "code",
      "metadata": {
        "id": "uawCouVd7MAh"
      },
      "source": [
        "from sklearn.svm import SVC\n",
        "\n",
        "def ResultsRatioSVM(perc):\n",
        "  dfAcc = pd.DataFrame(columns=(\"none\", \"oversample\", \"undersample\", \"NCL\", \"Tomek\", \"smote\"))\n",
        "  dfAUC = pd.DataFrame(columns=(\"none\", \"oversample\", \"undersample\", \"NCL\", \"Tomek\", \"smote\"))\n",
        "\n",
        "  resTechniques = [\"none\", \"oversample\", \"undersample\", \"NCL\", \"Tomek\", \"smote\"]\n",
        "\n",
        "  model = SVC(probability=True)\n",
        "  accVector = []\n",
        "  aucVector = []\n",
        "  for res in resTechniques:\n",
        "    #print(res)\n",
        "    resampling = selectTechnique(res, perc)\n",
        "  \n",
        "    [acc, aucc] = testResamplingTechniques(model, resampling, X_train, y_train, X_test, y_test, niter=100)\n",
        "    accVector.append(acc)\n",
        "    aucVector.append(aucc)\n",
        "  \n",
        "  dfAcc.loc[1] = accVector\n",
        "  dfAUC.loc[1] = aucVector\n",
        "  \n",
        "  return dfAcc, dfAUC"
      ],
      "execution_count": null,
      "outputs": []
    },
    {
      "cell_type": "code",
      "metadata": {
        "colab": {
          "base_uri": "https://localhost:8080/"
        },
        "id": "jPs1xhvM72as",
        "outputId": "c32cc8ce-0d52-4968-c440-3252fb3ef01e"
      },
      "source": [
        "[dfAcc, dfAUC] = ResultsRatioSVM(perc = 0.6)\n",
        "print(\"Data set for accuracy\") #row is number of neighbours \n",
        "print(dfAcc)\n",
        "print(\"Data set for AUC\")\n",
        "print(dfAUC)"
      ],
      "execution_count": null,
      "outputs": [
        {
          "output_type": "stream",
          "text": [
            "Data set for accuracy\n",
            "       none  oversample  undersample       NCL     Tomek     smote\n",
            "1  0.714286       0.735     0.728036  0.642857  0.732143  0.736429\n",
            "Data set for AUC\n",
            "     none  oversample  undersample       NCL     Tomek     smote\n",
            "1  0.6727    0.695204       0.6969  0.716433  0.710407  0.687255\n"
          ],
          "name": "stdout"
        }
      ]
    },
    {
      "cell_type": "code",
      "metadata": {
        "colab": {
          "base_uri": "https://localhost:8080/"
        },
        "id": "O8JXgvo173Lt",
        "outputId": "53016f6e-7c38-4f2f-fc0e-af3606fe9b05"
      },
      "source": [
        "[dfAcc, dfAUC] = ResultsRatioSVM(perc = 0.8)\n",
        "print(\"Data set for accuracy\") #row is number of neighbours \n",
        "print(dfAcc)\n",
        "print(\"Data set for AUC\")\n",
        "print(dfAUC)"
      ],
      "execution_count": null,
      "outputs": [
        {
          "output_type": "stream",
          "text": [
            "Data set for accuracy\n",
            "       none  oversample  undersample       NCL     Tomek     smote\n",
            "1  0.714286    0.696607     0.671429  0.642857  0.732143  0.683214\n",
            "Data set for AUC\n",
            "     none  oversample  undersample       NCL   Tomek     smote\n",
            "1  0.6727    0.707722     0.696305  0.716433  0.7104  0.707858\n"
          ],
          "name": "stdout"
        }
      ]
    },
    {
      "cell_type": "code",
      "metadata": {
        "colab": {
          "base_uri": "https://localhost:8080/"
        },
        "id": "zg7vxS5j73TD",
        "outputId": "b624225d-e407-4ded-d049-8f6eefe2b511"
      },
      "source": [
        "[dfAcc, dfAUC] = ResultsRatioSVM(perc = 1)\n",
        "print(\"Data set for accuracy\") #row is number of neighbours \n",
        "print(dfAcc)\n",
        "print(\"Data set for AUC\")\n",
        "print(dfAUC)"
      ],
      "execution_count": null,
      "outputs": [
        {
          "output_type": "stream",
          "text": [
            "Data set for accuracy\n",
            "       none  oversample  undersample       NCL     Tomek     smote\n",
            "1  0.714286     0.66125     0.636071  0.642857  0.732143  0.639821\n",
            "Data set for AUC\n",
            "     none  oversample  undersample       NCL     Tomek     smote\n",
            "1  0.6727    0.715747     0.712511  0.716425  0.710415  0.713477\n"
          ],
          "name": "stdout"
        }
      ]
    },
    {
      "cell_type": "markdown",
      "metadata": {
        "id": "XrCPMkfp--Dd"
      },
      "source": [
        "## Logistic Regression"
      ]
    },
    {
      "cell_type": "code",
      "metadata": {
        "id": "gnmYZeFM73X4"
      },
      "source": [
        "from sklearn.linear_model import LogisticRegression\n",
        "\n",
        "\n",
        "def ResultsRatioLR(perc):\n",
        "  dfAcc = pd.DataFrame(columns=(\"none\", \"oversample\", \"undersample\", \"NCL\", \"Tomek\", \"smote\"))\n",
        "  dfAUC = pd.DataFrame(columns=(\"none\", \"oversample\", \"undersample\", \"NCL\", \"Tomek\", \"smote\"))\n",
        "\n",
        "  resTechniques = [\"none\", \"oversample\", \"undersample\", \"NCL\", \"Tomek\", \"smote\"]\n",
        "\n",
        "  model = LogisticRegression()\n",
        "  accVector = []\n",
        "  aucVector = []\n",
        "  for res in resTechniques:\n",
        "    #print(res)\n",
        "    resampling = selectTechnique(res, perc)\n",
        "  \n",
        "    [acc, aucc] = testResamplingTechniques(model, resampling, X_train, y_train, X_test, y_test, niter=100)\n",
        "    accVector.append(acc)\n",
        "    aucVector.append(aucc)\n",
        "  \n",
        "  dfAcc.loc[1] = accVector\n",
        "  dfAUC.loc[1] = aucVector\n",
        "  \n",
        "  return dfAcc, dfAUC"
      ],
      "execution_count": null,
      "outputs": []
    },
    {
      "cell_type": "code",
      "metadata": {
        "colab": {
          "base_uri": "https://localhost:8080/"
        },
        "id": "rtLfNQeR73cG",
        "outputId": "3f0d9df6-b439-4fbb-a5dd-be7b667c3b40"
      },
      "source": [
        "[dfAcc, dfAUC] = ResultsRatioLR(perc = 0.6)\n",
        "print(\"Data set for accuracy\") #row is number of neighbours \n",
        "print(dfAcc)\n",
        "print(\"Data set for AUC\")\n",
        "print(dfAUC)"
      ],
      "execution_count": null,
      "outputs": [
        {
          "output_type": "stream",
          "text": [
            "Data set for accuracy\n",
            "       none  oversample  undersample       NCL  Tomek     smote\n",
            "1  0.767857    0.731429     0.728571  0.660714   0.75  0.728393\n",
            "Data set for AUC\n",
            "      none  oversample  undersample       NCL     Tomek     smote\n",
            "1  0.73454     0.73098     0.730603  0.740573  0.742081  0.726757\n"
          ],
          "name": "stdout"
        }
      ]
    },
    {
      "cell_type": "code",
      "metadata": {
        "colab": {
          "base_uri": "https://localhost:8080/"
        },
        "id": "xqkpGZf7_bDS",
        "outputId": "b6992445-3025-4556-e027-64671f4378bd"
      },
      "source": [
        "[dfAcc, dfAUC] = ResultsRatioLR(perc = 0.8)\n",
        "print(\"Data set for accuracy\") #row is number of neighbours \n",
        "print(dfAcc)\n",
        "print(\"Data set for AUC\")\n",
        "print(dfAUC)"
      ],
      "execution_count": null,
      "outputs": [
        {
          "output_type": "stream",
          "text": [
            "Data set for accuracy\n",
            "       none  oversample  undersample       NCL  Tomek     smote\n",
            "1  0.767857    0.690536      0.68625  0.660714   0.75  0.690179\n",
            "Data set for AUC\n",
            "      none  oversample  undersample       NCL     Tomek     smote\n",
            "1  0.73454    0.730709     0.730875  0.740573  0.742081  0.727451\n"
          ],
          "name": "stdout"
        }
      ]
    },
    {
      "cell_type": "code",
      "metadata": {
        "colab": {
          "base_uri": "https://localhost:8080/"
        },
        "id": "zT7UKvZfBJ3q",
        "outputId": "a68fe206-0152-4481-ab1a-269ecfee5adb"
      },
      "source": [
        "[dfAcc, dfAUC] = ResultsRatioLR(perc = 1)\n",
        "print(\"Data set for accuracy\") #row is number of neighbours \n",
        "print(dfAcc)\n",
        "print(\"Data set for AUC\")\n",
        "print(dfAUC)"
      ],
      "execution_count": null,
      "outputs": [
        {
          "output_type": "stream",
          "text": [
            "Data set for accuracy\n",
            "       none  oversample  undersample       NCL  Tomek     smote\n",
            "1  0.767857    0.663214     0.661607  0.660714   0.75  0.659286\n",
            "Data set for AUC\n",
            "      none  oversample  undersample       NCL     Tomek     smote\n",
            "1  0.73454    0.731885     0.732685  0.740573  0.742081  0.727617\n"
          ],
          "name": "stdout"
        }
      ]
    },
    {
      "cell_type": "markdown",
      "metadata": {
        "id": "x8Ay06YPBMZR"
      },
      "source": [
        "## Naive Bayes"
      ]
    },
    {
      "cell_type": "code",
      "metadata": {
        "id": "g7uatPBKBrBh"
      },
      "source": [
        "from sklearn.naive_bayes import GaussianNB\n",
        "\n",
        "def ResultsRatioNB(perc):\n",
        "  dfAcc = pd.DataFrame(columns=(\"none\", \"oversample\", \"undersample\", \"NCL\", \"Tomek\", \"smote\"))\n",
        "  dfAUC = pd.DataFrame(columns=(\"none\", \"oversample\", \"undersample\", \"NCL\", \"Tomek\", \"smote\"))\n",
        "\n",
        "  resTechniques = [\"none\", \"oversample\", \"undersample\", \"NCL\", \"Tomek\", \"smote\"]\n",
        "\n",
        "  model = GaussianNB()\n",
        "  accVector = []\n",
        "  aucVector = []\n",
        "  for res in resTechniques:\n",
        "    #print(res)\n",
        "    resampling = selectTechnique(res, perc)\n",
        "  \n",
        "    [acc, aucc] = testResamplingTechniques(model, resampling, X_train, y_train, X_test, y_test, niter=100)\n",
        "    accVector.append(acc)\n",
        "    aucVector.append(aucc)\n",
        "  \n",
        "  dfAcc.loc[1] = accVector\n",
        "  dfAUC.loc[1] = aucVector\n",
        "  \n",
        "  return dfAcc, dfAUC"
      ],
      "execution_count": null,
      "outputs": []
    },
    {
      "cell_type": "code",
      "metadata": {
        "colab": {
          "base_uri": "https://localhost:8080/"
        },
        "id": "joFwKGzuB1Qs",
        "outputId": "face511f-bcb5-4412-8837-b587da4cb173"
      },
      "source": [
        "[dfAcc, dfAUC] = ResultsRatioNB(perc = 0.6)\n",
        "print(\"Data set for accuracy\") #row is number of neighbours \n",
        "print(dfAcc)\n",
        "print(\"Data set for AUC\")\n",
        "print(dfAUC)"
      ],
      "execution_count": null,
      "outputs": [
        {
          "output_type": "stream",
          "text": [
            "Data set for accuracy\n",
            "       none  oversample  undersample       NCL  Tomek     smote\n",
            "1  0.767857    0.749821     0.738393  0.714286   0.75  0.740536\n",
            "Data set for AUC\n",
            "       none  oversample  undersample      NCL     Tomek     smote\n",
            "1  0.717949    0.719321     0.719864  0.73454  0.720965  0.721161\n"
          ],
          "name": "stdout"
        }
      ]
    },
    {
      "cell_type": "code",
      "metadata": {
        "colab": {
          "base_uri": "https://localhost:8080/"
        },
        "id": "l5KNbmICB1hv",
        "outputId": "d6d88be8-7bd7-47a6-d880-52200c5f90b1"
      },
      "source": [
        "[dfAcc, dfAUC] = ResultsRatioNB(perc = 0.8)\n",
        "print(\"Data set for accuracy\") #row is number of neighbours \n",
        "print(dfAcc)\n",
        "print(\"Data set for AUC\")\n",
        "print(dfAUC)"
      ],
      "execution_count": null,
      "outputs": [
        {
          "output_type": "stream",
          "text": [
            "Data set for accuracy\n",
            "       none  oversample  undersample       NCL  Tomek     smote\n",
            "1  0.767857     0.72125     0.724107  0.714286   0.75  0.713571\n",
            "Data set for AUC\n",
            "       none  oversample  undersample      NCL     Tomek     smote\n",
            "1  0.717949    0.719397     0.720166  0.73454  0.720965  0.723092\n"
          ],
          "name": "stdout"
        }
      ]
    },
    {
      "cell_type": "code",
      "metadata": {
        "colab": {
          "base_uri": "https://localhost:8080/"
        },
        "id": "5eZA76vfB1l3",
        "outputId": "5f1cfaa4-7c07-4b1b-b382-5d1ce61d30bc"
      },
      "source": [
        "[dfAcc, dfAUC] = ResultsRatioNB(perc = 1)\n",
        "print(\"Data set for accuracy\") #row is number of neighbours \n",
        "print(dfAcc)\n",
        "print(\"Data set for AUC\")\n",
        "print(dfAUC)"
      ],
      "execution_count": null,
      "outputs": [
        {
          "output_type": "stream",
          "text": [
            "Data set for accuracy\n",
            "       none  oversample  undersample       NCL  Tomek     smote\n",
            "1  0.767857    0.703214     0.717321  0.714286   0.75  0.705357\n",
            "Data set for AUC\n",
            "       none  oversample  undersample      NCL     Tomek     smote\n",
            "1  0.717949    0.718959     0.720724  0.73454  0.720965  0.724887\n"
          ],
          "name": "stdout"
        }
      ]
    },
    {
      "cell_type": "markdown",
      "metadata": {
        "id": "9ryMs9iMB8BH"
      },
      "source": [
        "## Decision Trees"
      ]
    },
    {
      "cell_type": "code",
      "metadata": {
        "id": "FbRKQPZpB1s9"
      },
      "source": [
        "from sklearn.tree import DecisionTreeClassifier\n",
        "\n",
        "def ResultsRatioDTBal(perc):\n",
        "  dfAcc = pd.DataFrame(columns=(\"none\", \"oversample\", \"undersample\", \"NCL\", \"Tomek\", \"smote\"))\n",
        "  dfAUC = pd.DataFrame(columns=(\"none\", \"oversample\", \"undersample\", \"NCL\", \"Tomek\", \"smote\"))\n",
        "\n",
        "  resTechniques = [\"none\", \"oversample\", \"undersample\", \"NCL\", \"Tomek\", \"smote\"]\n",
        "\n",
        "  model = DecisionTreeClassifier(class_weight=\"balanced\", random_state=11)\n",
        "  accVector = []\n",
        "  aucVector = []\n",
        "  for res in resTechniques:\n",
        "    #print(res)\n",
        "    resampling = selectTechnique(res, perc)\n",
        "  \n",
        "    [acc, aucc] = testResamplingTechniques(model, resampling, X_train, y_train, X_test, y_test, niter=100)\n",
        "    accVector.append(acc)\n",
        "    aucVector.append(aucc)\n",
        "  \n",
        "  dfAcc.loc[1] = accVector\n",
        "  dfAUC.loc[1] = aucVector\n",
        "  \n",
        "  return dfAcc, dfAUC"
      ],
      "execution_count": null,
      "outputs": []
    },
    {
      "cell_type": "code",
      "metadata": {
        "id": "28p9G-0p_OEr"
      },
      "source": [
        "from sklearn.tree import DecisionTreeClassifier\n",
        "\n",
        "def ResultsRatioDT(perc):\n",
        "  dfAcc = pd.DataFrame(columns=(\"none\", \"oversample\", \"undersample\", \"NCL\", \"Tomek\", \"smote\"))\n",
        "  dfAUC = pd.DataFrame(columns=(\"none\", \"oversample\", \"undersample\", \"NCL\", \"Tomek\", \"smote\"))\n",
        "\n",
        "  resTechniques = [\"none\", \"oversample\", \"undersample\", \"NCL\", \"Tomek\", \"smote\"]\n",
        "\n",
        "  model = DecisionTreeClassifier(random_state=11)\n",
        "  accVector = []\n",
        "  aucVector = []\n",
        "  for res in resTechniques:\n",
        "    #print(res)\n",
        "    resampling = selectTechnique(res, perc)\n",
        "  \n",
        "    [acc, aucc] = testResamplingTechniques(model, resampling, X_train, y_train, X_test, y_test, niter=100)\n",
        "    accVector.append(acc)\n",
        "    aucVector.append(aucc)\n",
        "  \n",
        "  dfAcc.loc[1] = accVector\n",
        "  dfAUC.loc[1] = aucVector\n",
        "  \n",
        "  return dfAcc, dfAUC"
      ],
      "execution_count": null,
      "outputs": []
    },
    {
      "cell_type": "code",
      "metadata": {
        "id": "RMoow-trB2Xh",
        "colab": {
          "base_uri": "https://localhost:8080/"
        },
        "outputId": "5093f38e-87e7-48ba-b0d6-f68ae373ca5e"
      },
      "source": [
        "[dfAcc, dfAUC] = ResultsRatioDTBal(perc = 0.6)\n",
        "print(\"Data set for accuracy\") #row is number of neighbours \n",
        "print(dfAcc)\n",
        "print(\"Data set for AUC\")\n",
        "print(dfAUC)"
      ],
      "execution_count": null,
      "outputs": [
        {
          "output_type": "stream",
          "text": [
            "Data set for accuracy\n",
            "    none  oversample  undersample       NCL  Tomek     smote\n",
            "1  0.625    0.585357     0.565536  0.446429  0.625  0.588214\n",
            "Data set for AUC\n",
            "       none  oversample  undersample       NCL     Tomek     smote\n",
            "1  0.578431    0.547934      0.55319  0.466063  0.611614  0.555136\n"
          ],
          "name": "stdout"
        }
      ]
    },
    {
      "cell_type": "code",
      "metadata": {
        "colab": {
          "base_uri": "https://localhost:8080/"
        },
        "id": "EaymDa_3_TS5",
        "outputId": "69a91db5-5600-42b8-9767-9ef569198cb5"
      },
      "source": [
        "[dfAcc, dfAUC] = ResultsRatioDTBal(perc = 0.8)\n",
        "print(\"Data set for accuracy\") #row is number of neighbours \n",
        "print(dfAcc)\n",
        "print(\"Data set for AUC\")\n",
        "print(dfAUC)"
      ],
      "execution_count": null,
      "outputs": [
        {
          "output_type": "stream",
          "text": [
            "Data set for accuracy\n",
            "    none  oversample  undersample       NCL  Tomek  smote\n",
            "1  0.625    0.591786     0.550893  0.446429  0.625  0.585\n",
            "Data set for AUC\n",
            "       none  oversample  undersample       NCL     Tomek     smote\n",
            "1  0.578431    0.557903     0.559525  0.466063  0.611614  0.551787\n"
          ],
          "name": "stdout"
        }
      ]
    },
    {
      "cell_type": "code",
      "metadata": {
        "colab": {
          "base_uri": "https://localhost:8080/"
        },
        "id": "tI1ay925_UwM",
        "outputId": "840d529a-b677-48c5-f1aa-304f7946c4c0"
      },
      "source": [
        "[dfAcc, dfAUC] = ResultsRatioDTBal(perc = 1)\n",
        "print(\"Data set for accuracy\") #row is number of neighbours \n",
        "print(dfAcc)\n",
        "print(\"Data set for AUC\")\n",
        "print(dfAUC)"
      ],
      "execution_count": null,
      "outputs": [
        {
          "output_type": "stream",
          "text": [
            "Data set for accuracy\n",
            "    none  oversample  undersample       NCL  Tomek    smote\n",
            "1  0.625    0.586786     0.539821  0.446429  0.625  0.57875\n",
            "Data set for AUC\n",
            "       none  oversample  undersample       NCL     Tomek     smote\n",
            "1  0.578431    0.554465     0.554925  0.466063  0.611614  0.553507\n"
          ],
          "name": "stdout"
        }
      ]
    },
    {
      "cell_type": "code",
      "metadata": {
        "colab": {
          "base_uri": "https://localhost:8080/"
        },
        "id": "-JxqP9oL_Wua",
        "outputId": "6324ebdc-130a-410c-a177-0819707f477f"
      },
      "source": [
        "[dfAcc, dfAUC] = ResultsRatioDT(perc = 0.6)\n",
        "print(\"Data set for accuracy\") #row is number of neighbours \n",
        "print(dfAcc)\n",
        "print(\"Data set for AUC\")\n",
        "print(dfAUC)"
      ],
      "execution_count": null,
      "outputs": [
        {
          "output_type": "stream",
          "text": [
            "Data set for accuracy\n",
            "       none  oversample  undersample       NCL     Tomek  smote\n",
            "1  0.660714      0.6125     0.581071  0.428571  0.660714  0.595\n",
            "Data set for AUC\n",
            "       none  oversample  undersample       NCL     Tomek    smote\n",
            "1  0.608597    0.575038     0.566802  0.468326  0.638763  0.56856\n"
          ],
          "name": "stdout"
        }
      ]
    },
    {
      "cell_type": "code",
      "metadata": {
        "colab": {
          "base_uri": "https://localhost:8080/"
        },
        "id": "wtnx3ZsU_lDa",
        "outputId": "7507518e-fc41-436d-faeb-f6b27104bf19"
      },
      "source": [
        "[dfAcc, dfAUC] = ResultsRatioDT(perc = 0.8)\n",
        "print(\"Data set for accuracy\") #row is number of neighbours \n",
        "print(dfAcc)\n",
        "print(\"Data set for AUC\")\n",
        "print(dfAUC)"
      ],
      "execution_count": null,
      "outputs": [
        {
          "output_type": "stream",
          "text": [
            "Data set for accuracy\n",
            "       none  oversample  undersample       NCL     Tomek     smote\n",
            "1  0.660714    0.601607     0.557143  0.428571  0.660714  0.583929\n",
            "Data set for AUC\n",
            "       none  oversample  undersample       NCL     Tomek     smote\n",
            "1  0.608597    0.565943     0.558439  0.468326  0.638763  0.561667\n"
          ],
          "name": "stdout"
        }
      ]
    },
    {
      "cell_type": "code",
      "metadata": {
        "colab": {
          "base_uri": "https://localhost:8080/"
        },
        "id": "5VDvrzoi_mgd",
        "outputId": "a0675b12-4baa-4b8a-d1ae-dfcc09d8384c"
      },
      "source": [
        "[dfAcc, dfAUC] = ResultsRatioDT(perc = 1)\n",
        "print(\"Data set for accuracy\") #row is number of neighbours \n",
        "print(dfAcc)\n",
        "print(\"Data set for AUC\")\n",
        "print(dfAUC)"
      ],
      "execution_count": null,
      "outputs": [
        {
          "output_type": "stream",
          "text": [
            "Data set for accuracy\n",
            "       none  oversample  undersample       NCL     Tomek     smote\n",
            "1  0.660714       0.595     0.535357  0.428571  0.660714  0.582857\n",
            "Data set for AUC\n",
            "       none  oversample  undersample       NCL     Tomek     smote\n",
            "1  0.608597     0.56083     0.550309  0.468326  0.638763  0.555618\n"
          ],
          "name": "stdout"
        }
      ]
    },
    {
      "cell_type": "markdown",
      "metadata": {
        "id": "05938-aLd5o8"
      },
      "source": [
        "# Functions to test ensemble-resampling techniques"
      ]
    },
    {
      "cell_type": "code",
      "metadata": {
        "id": "Q98XeG9yeBau"
      },
      "source": [
        "def testEnsembleTechniques(initial_model, resname, X_train, y_train, X_test, y_test, perc):\n",
        "  \n",
        "  if resname == \"none\": model2 = initial_model\n",
        "    \n",
        "  \n",
        "  else: model2 = selectEnsemble(resname, initial_model, perc)\n",
        "\n",
        "      \n",
        "  model2.fit(X_train,y_train)\n",
        "    \n",
        "  y_scores = model2.predict_proba(X_test)\n",
        "  fpr, tpr, threshold = roc_curve(y_test, y_scores[:, 1])\n",
        "  aucc = auc(fpr, tpr)\n",
        "      \n",
        "  y_predict= model2.predict(X_test)\n",
        "  acc = accuracy_score(y_test, y_predict)\n",
        "  \n",
        "    \n",
        "  return acc, aucc\n",
        "\n",
        "  "
      ],
      "execution_count": null,
      "outputs": []
    },
    {
      "cell_type": "code",
      "metadata": {
        "id": "Yw_gXZSRidho"
      },
      "source": [
        "def selectEnsemble(resname, initial_model, perc):\n",
        "  if resname == \"none\":  \n",
        "    ensemble = \"none\"\n",
        "    model = initial_model\n",
        "  \n",
        "  if resname == \"SMOTEBagg\":\n",
        "  \n",
        "    #resampling = SMOTE(sampling_strategy='minority')\n",
        "    resampling = SMOTE(sampling_strategy=perc, k_neighbors=1, random_state=1)\n",
        "    steps = [('over', resampling), ('model',initial_model)]\n",
        "    pipeline = Pipeline(steps=steps) \n",
        "    #model = BalancedBaggingClassifier(base_estimator=initial_model,sampler=resampling,n_estimators=10,max_samples=200,random_state=1)\n",
        "    model = BaggingClassifier(base_estimator=pipeline,n_estimators=10,max_samples=200,random_state=1)\n",
        "    \n",
        "  if resname == \"SMOTEBoost\": \n",
        "    steps = [('model', initial_model)]\n",
        "    pipeline = Pipeline(steps=steps) \n",
        "    model = smt.SMOTEBoost(base_estimator=pipeline,n_estimators=1, n_samples=int(perc*157)-64)\n",
        "    \n",
        "  if resname == \"RUSBagg\": \n",
        "    resampling = RandomUnderSampler(sampling_strategy='majority')\n",
        "    resampling = RandomUnderSampler(sampling_strategy=perc,random_state=1)\n",
        "    steps = [('under', resampling), ('model',initial_model)]\n",
        "    pipeline = Pipeline(steps=steps) \n",
        "    model = BaggingClassifier(base_estimator=pipeline, n_estimators=10,max_samples=200, random_state=1, n_jobs=5)\n",
        "    \n",
        "    \n",
        "  \n",
        "  if resname == \"RUSBoost\":\n",
        "    steps = [('model', initial_model)]\n",
        "    pipeline = Pipeline(steps=steps) \n",
        "    model = smt.SMOTEBoost(base_estimator=pipeline,n_estimators=10,k_neighbors=2, n_samples=int(perc*157)-64)\n",
        "    \n",
        "  \n",
        "  return model"
      ],
      "execution_count": null,
      "outputs": []
    },
    {
      "cell_type": "code",
      "metadata": {
        "id": "I0e1X9BA_zIV"
      },
      "source": [
        "!cp drive/MyDrive/Colab\\ Notebooks/projectCS/smoteMy.py smote2.py\n",
        "!cp drive/MyDrive/Colab\\ Notebooks/projectCS/smoteMy.py rus.py"
      ],
      "execution_count": null,
      "outputs": []
    },
    {
      "cell_type": "code",
      "metadata": {
        "id": "mG8mbKKR9VZ5"
      },
      "source": [
        "from imblearn.pipeline import Pipeline\n",
        "from imblearn.pipeline import make_pipeline\n",
        "from sklearn.ensemble import BaggingClassifier\n",
        "from sklearn.svm import SVC\n",
        "from imblearn.ensemble import BalancedBaggingClassifier\n",
        "from imblearn.ensemble import BalancedBaggingClassifier \n",
        "import smote2 as smt\n",
        "\n",
        "\n",
        "\n",
        "def ResultsRatioEnsemble(perc, initial_model, weight_support):\n",
        "  if weight_support:\n",
        "    dfAcc = pd.DataFrame(columns=(\"SMOTEBoost\",\"SMOTEBagg\",  \"RUSBagg\", \"RUSBoost\"))\n",
        "    dfAUC = pd.DataFrame(columns=(\"SMOTEBoost\", \"SMOTEBagg\",  \"RUSBagg\", \"RUSBoost\"))\n",
        "    resTechniques = [\"SMOTEBoost\",  \"SMOTEBagg\",  \"RUSBagg\", \"RUSBoost\"]\n",
        "  \n",
        "\n",
        "  else: \n",
        "    dfAcc = pd.DataFrame(columns=(\"SMOTEBagg\",  \"RUSBagg\"))\n",
        "    dfAUC = pd.DataFrame(columns=(\"SMOTEBagg\",  \"RUSBagg\"))\n",
        "    resTechniques = [\"SMOTEBagg\",  \"RUSBagg\"]\n",
        "  \n",
        "  \n",
        "\n",
        "  accVector = []\n",
        "  aucVector = []\n",
        "  for res in resTechniques:\n",
        "    \n",
        "    [acc, aucc] = testEnsembleTechniques(initial_model, res, X_train, y_train, X_test, y_test, perc)\n",
        "     \n",
        "    accVector.append(acc)\n",
        "    aucVector.append(aucc)\n",
        "  \n",
        "  dfAcc.loc[1] = accVector\n",
        "  dfAUC.loc[1] = aucVector\n",
        "  \n",
        "  return dfAcc, dfAUC"
      ],
      "execution_count": null,
      "outputs": []
    },
    {
      "cell_type": "markdown",
      "metadata": {
        "id": "jFmt1cA2m9i5"
      },
      "source": [
        "## Knn"
      ]
    },
    {
      "cell_type": "code",
      "metadata": {
        "colab": {
          "base_uri": "https://localhost:8080/"
        },
        "id": "NKmactvKEEoU",
        "outputId": "279af2a7-ee82-422e-8cc8-15d0769aa729"
      },
      "source": [
        "dfAccfin = pd.DataFrame(columns=(\"SMOTEBagg\",  \"RUSBagg\" ))\n",
        "dfAUCfin = pd.DataFrame(columns=( \"SMOTEBagg\",  \"RUSBagg\"))\n",
        "    \n",
        "for k in range(1, 10, 1):\n",
        "  [dfAcc, dfAUC] =  ResultsRatioEnsemble(perc = 0.6, initial_model=KNeighborsClassifier(k),weight_support=False)\n",
        "  dfAccfin.loc[k] = dfAcc.loc[1]\n",
        "  dfAUCfin.loc[k] = dfAUC.loc[1]\n",
        "\n",
        "print(\"Data set for accuracy\") #row is number of neighbours \n",
        "print(dfAccfin)\n",
        "print(\"Data set for AUC\")\n",
        "print(dfAUCfin)"
      ],
      "execution_count": null,
      "outputs": [
        {
          "output_type": "stream",
          "text": [
            "Data set for accuracy\n",
            "   SMOTEBagg   RUSBagg\n",
            "1   0.642857  0.607143\n",
            "2   0.625000  0.607143\n",
            "3   0.607143  0.660714\n",
            "4   0.625000  0.660714\n",
            "5   0.625000  0.642857\n",
            "6   0.625000  0.660714\n",
            "7   0.607143  0.678571\n",
            "8   0.660714  0.642857\n",
            "9   0.660714  0.696429\n",
            "Data set for AUC\n",
            "   SMOTEBagg   RUSBagg\n",
            "1   0.599548  0.628959\n",
            "2   0.594268  0.641026\n",
            "3   0.606335  0.628205\n",
            "4   0.595023  0.638763\n",
            "5   0.591252  0.623680\n",
            "6   0.615385  0.625943\n",
            "7   0.617647  0.602564\n",
            "8   0.610860  0.609351\n",
            "9   0.594268  0.624434\n"
          ],
          "name": "stdout"
        }
      ]
    },
    {
      "cell_type": "code",
      "metadata": {
        "colab": {
          "base_uri": "https://localhost:8080/"
        },
        "id": "ratx1-60GtWR",
        "outputId": "eb9e2da8-ebcb-4f5a-da92-d3ca0bdf52d4"
      },
      "source": [
        "dfAccfin = pd.DataFrame(columns=(\"SMOTEBagg\",  \"RUSBagg\" ))\n",
        "dfAUCfin = pd.DataFrame(columns=( \"SMOTEBagg\",  \"RUSBagg\"))\n",
        "    \n",
        "for k in range(1, 10, 1):\n",
        "  [dfAcc, dfAUC] =  ResultsRatioEnsemble(perc = 0.8, initial_model=KNeighborsClassifier(k),weight_support=False)\n",
        "  dfAccfin.loc[k] = dfAcc.loc[1]\n",
        "  dfAUCfin.loc[k] = dfAUC.loc[1]\n",
        "\n",
        "print(\"Data set for accuracy\") #row is number of neighbours \n",
        "print(dfAccfin)\n",
        "print(\"Data set for AUC\")\n",
        "print(dfAUCfin)"
      ],
      "execution_count": null,
      "outputs": [
        {
          "output_type": "stream",
          "text": [
            "Data set for accuracy\n",
            "   SMOTEBagg   RUSBagg\n",
            "1   0.625000  0.589286\n",
            "2   0.589286  0.589286\n",
            "3   0.589286  0.571429\n",
            "4   0.607143  0.642857\n",
            "5   0.589286  0.625000\n",
            "6   0.607143  0.660714\n",
            "7   0.607143  0.642857\n",
            "8   0.642857  0.625000\n",
            "9   0.625000  0.642857\n",
            "Data set for AUC\n",
            "   SMOTEBagg   RUSBagg\n",
            "1   0.598039  0.650830\n",
            "2   0.609351  0.636501\n",
            "3   0.607089  0.646305\n",
            "4   0.608597  0.638763\n",
            "5   0.604827  0.651584\n",
            "6   0.606335  0.619910\n",
            "7   0.622926  0.613122\n",
            "8   0.622172  0.623680\n",
            "9   0.628205  0.636501\n"
          ],
          "name": "stdout"
        }
      ]
    },
    {
      "cell_type": "code",
      "metadata": {
        "colab": {
          "base_uri": "https://localhost:8080/"
        },
        "id": "EbdhrA3dGwF4",
        "outputId": "db1b5b95-533b-4b83-ec10-fa7c657f2073"
      },
      "source": [
        "dfAccfin = pd.DataFrame(columns=(\"SMOTEBagg\",  \"RUSBagg\" ))\n",
        "dfAUCfin = pd.DataFrame(columns=( \"SMOTEBagg\",  \"RUSBagg\"))\n",
        "    \n",
        "for k in range(1, 10, 1):\n",
        "  [dfAcc, dfAUC] =  ResultsRatioEnsemble(perc =1 , initial_model=KNeighborsClassifier(k),weight_support=False)\n",
        "  dfAccfin.loc[k] = dfAcc.loc[1]\n",
        "  dfAUCfin.loc[k] = dfAUC.loc[1]\n",
        "\n",
        "print(\"Data set for accuracy\") #row is number of neighbours \n",
        "print(dfAccfin)\n",
        "print(\"Data set for AUC\")\n",
        "print(dfAUCfin)"
      ],
      "execution_count": null,
      "outputs": [
        {
          "output_type": "stream",
          "text": [
            "Data set for accuracy\n",
            "   SMOTEBagg   RUSBagg\n",
            "1   0.642857  0.571429\n",
            "2   0.607143  0.589286\n",
            "3   0.553571  0.553571\n",
            "4   0.571429  0.571429\n",
            "5   0.571429  0.589286\n",
            "6   0.589286  0.607143\n",
            "7   0.589286  0.571429\n",
            "8   0.571429  0.607143\n",
            "9   0.589286  0.571429\n",
            "Data set for AUC\n",
            "   SMOTEBagg   RUSBagg\n",
            "1   0.619155  0.635747\n",
            "2   0.596531  0.636501\n",
            "3   0.601810  0.631976\n",
            "4   0.587481  0.633484\n",
            "5   0.604827  0.633484\n",
            "6   0.610106  0.616893\n",
            "7   0.618401  0.632730\n",
            "8   0.622172  0.637255\n",
            "9   0.620664  0.644042\n"
          ],
          "name": "stdout"
        }
      ]
    },
    {
      "cell_type": "code",
      "metadata": {
        "colab": {
          "base_uri": "https://localhost:8080/"
        },
        "id": "dNxV4dnmG-rE",
        "outputId": "067b5bae-50ad-488a-d71b-13a053e6590d"
      },
      "source": [
        "dfAccfin = pd.DataFrame(columns=(\"SMOTEBagg\",  \"RUSBagg\" ))\n",
        "dfAUCfin = pd.DataFrame(columns=( \"SMOTEBagg\",  \"RUSBagg\"))\n",
        "    \n",
        "for k in range(10, 100, 10):\n",
        "  [dfAcc, dfAUC] =  ResultsRatioEnsemble(perc =0.6 , initial_model=KNeighborsClassifier(k),weight_support=False)\n",
        "  dfAccfin.loc[k] = dfAcc.loc[1]\n",
        "  dfAUCfin.loc[k] = dfAUC.loc[1]\n",
        "\n",
        "print(\"Data set for accuracy\") #row is number of neighbours \n",
        "print(dfAccfin)\n",
        "print(\"Data set for AUC\")\n",
        "print(dfAUCfin)"
      ],
      "execution_count": null,
      "outputs": [
        {
          "output_type": "stream",
          "text": [
            "Data set for accuracy\n",
            "    SMOTEBagg   RUSBagg\n",
            "10   0.642857  0.696429\n",
            "20   0.714286  0.714286\n",
            "30   0.732143  0.714286\n",
            "40   0.714286  0.714286\n",
            "50   0.714286  0.732143\n",
            "60   0.714286  0.732143\n",
            "70   0.714286  0.714286\n",
            "80   0.732143  0.696429\n",
            "90   0.732143  0.696429\n",
            "Data set for AUC\n",
            "    SMOTEBagg   RUSBagg\n",
            "10   0.588989  0.622926\n",
            "20   0.625189  0.689291\n",
            "30   0.659879  0.727753\n",
            "40   0.726244  0.739819\n",
            "50   0.753394  0.751885\n",
            "60   0.741327  0.773756\n",
            "70   0.728507  0.789593\n",
            "80   0.741327  0.774510\n",
            "90   0.751131  0.766968\n"
          ],
          "name": "stdout"
        }
      ]
    },
    {
      "cell_type": "code",
      "metadata": {
        "colab": {
          "base_uri": "https://localhost:8080/"
        },
        "id": "qQ9nS61VISin",
        "outputId": "011c96f4-6523-4c39-f0dc-53506e491738"
      },
      "source": [
        "dfAccfin = pd.DataFrame(columns=(\"SMOTEBagg\",  \"RUSBagg\" ))\n",
        "dfAUCfin = pd.DataFrame(columns=( \"SMOTEBagg\",  \"RUSBagg\"))\n",
        "    \n",
        "for k in range(10, 100, 10):\n",
        "  [dfAcc, dfAUC] =  ResultsRatioEnsemble(perc =0.8 , initial_model=KNeighborsClassifier(k),weight_support=False)\n",
        "  dfAccfin.loc[k] = dfAcc.loc[1]\n",
        "  dfAUCfin.loc[k] = dfAUC.loc[1]\n",
        "\n",
        "print(\"Data set for accuracy\") #row is number of neighbours \n",
        "print(dfAccfin)\n",
        "print(\"Data set for AUC\")\n",
        "print(dfAUCfin)"
      ],
      "execution_count": null,
      "outputs": [
        {
          "output_type": "stream",
          "text": [
            "Data set for accuracy\n",
            "    SMOTEBagg   RUSBagg\n",
            "10   0.625000  0.625000\n",
            "20   0.660714  0.714286\n",
            "30   0.696429  0.732143\n",
            "40   0.696429  0.767857\n",
            "50   0.732143  0.732143\n",
            "60   0.750000  0.750000\n",
            "70   0.750000  0.750000\n",
            "80   0.767857  0.750000\n",
            "90   0.767857  0.714286\n",
            "Data set for AUC\n",
            "    SMOTEBagg   RUSBagg\n",
            "10   0.606335  0.634992\n",
            "20   0.631222  0.693816\n",
            "30   0.670437  0.728507\n",
            "40   0.707391  0.743590\n",
            "50   0.731523  0.767722\n",
            "60   0.749623  0.783560\n",
            "70   0.739065  0.774510\n",
            "80   0.738311  0.759427\n",
            "90   0.745098  0.752640\n"
          ],
          "name": "stdout"
        }
      ]
    },
    {
      "cell_type": "code",
      "metadata": {
        "colab": {
          "base_uri": "https://localhost:8080/"
        },
        "id": "LY7Jm2TtIT_i",
        "outputId": "6395b60e-fbd5-45c1-9d12-993e58bc27fc"
      },
      "source": [
        "dfAccfin = pd.DataFrame(columns=(\"SMOTEBagg\",  \"RUSBagg\" ))\n",
        "dfAUCfin = pd.DataFrame(columns=( \"SMOTEBagg\",  \"RUSBagg\"))\n",
        "    \n",
        "for k in range(10, 100, 10):\n",
        "  [dfAcc, dfAUC] =  ResultsRatioEnsemble(perc =1 , initial_model=KNeighborsClassifier(k),weight_support=False)\n",
        "  dfAccfin.loc[k] = dfAcc.loc[1]\n",
        "  dfAUCfin.loc[k] = dfAUC.loc[1]\n",
        "\n",
        "print(\"Data set for accuracy\") #row is number of neighbours \n",
        "print(dfAccfin)\n",
        "print(\"Data set for AUC\")\n",
        "print(dfAUCfin)"
      ],
      "execution_count": null,
      "outputs": [
        {
          "output_type": "stream",
          "text": [
            "Data set for accuracy\n",
            "    SMOTEBagg   RUSBagg\n",
            "10   0.589286  0.571429\n",
            "20   0.607143  0.678571\n",
            "30   0.678571  0.696429\n",
            "40   0.660714  0.696429\n",
            "50   0.660714  0.750000\n",
            "60   0.714286  0.767857\n",
            "70   0.714286  0.785714\n",
            "80   0.696429  0.750000\n",
            "90   0.696429  0.785714\n",
            "Data set for AUC\n",
            "    SMOTEBagg   RUSBagg\n",
            "10   0.622172  0.649321\n",
            "20   0.634992  0.714178\n",
            "30   0.669683  0.752640\n",
            "40   0.693816  0.750377\n",
            "50   0.722474  0.777526\n",
            "60   0.739819  0.776772\n",
            "70   0.753394  0.757919\n",
            "80   0.741327  0.752640\n",
            "90   0.743590  0.705882\n"
          ],
          "name": "stdout"
        }
      ]
    },
    {
      "cell_type": "markdown",
      "metadata": {
        "id": "C8r_t3ML-LwM"
      },
      "source": [
        "## SVM"
      ]
    },
    {
      "cell_type": "code",
      "metadata": {
        "colab": {
          "base_uri": "https://localhost:8080/"
        },
        "id": "oQ6nyc2fmczJ",
        "outputId": "6a735bb0-2890-40fd-8f33-56ec250b8ad8"
      },
      "source": [
        "[dfAcc, dfAUC] =  ResultsRatioEnsemble(perc = 0.6, initial_model=SVC(probability=True),weight_support=False)\n",
        "print(\"Data set for accuracy\") #row is number of neighbours \n",
        "print(dfAcc)\n",
        "print(\"Data set for AUC\")\n",
        "print(dfAUC)"
      ],
      "execution_count": null,
      "outputs": [
        {
          "output_type": "stream",
          "text": [
            "Data set for accuracy\n",
            "   SMOTEBagg   RUSBagg\n",
            "1       0.75  0.732143\n",
            "Data set for AUC\n",
            "   SMOTEBagg   RUSBagg\n",
            "1   0.705882  0.692308\n"
          ],
          "name": "stdout"
        }
      ]
    },
    {
      "cell_type": "code",
      "metadata": {
        "colab": {
          "base_uri": "https://localhost:8080/"
        },
        "id": "j3_JCTvsIaNg",
        "outputId": "6c58d035-e29a-441f-e387-95050370c0e8"
      },
      "source": [
        "[dfAcc, dfAUC] =  ResultsRatioEnsemble(perc = 0.8, initial_model=SVC(probability=True),weight_support=False)\n",
        "print(\"Data set for accuracy\") #row is number of neighbours \n",
        "print(dfAcc)\n",
        "print(\"Data set for AUC\")\n",
        "print(dfAUC)"
      ],
      "execution_count": null,
      "outputs": [
        {
          "output_type": "stream",
          "text": [
            "Data set for accuracy\n",
            "   SMOTEBagg   RUSBagg\n",
            "1   0.714286  0.678571\n",
            "Data set for AUC\n",
            "   SMOTEBagg   RUSBagg\n",
            "1   0.695324  0.711916\n"
          ],
          "name": "stdout"
        }
      ]
    },
    {
      "cell_type": "code",
      "metadata": {
        "colab": {
          "base_uri": "https://localhost:8080/"
        },
        "id": "ykJyOA9FIcGf",
        "outputId": "ffa3cfe3-2ef5-4263-bb97-9052de2d20b7"
      },
      "source": [
        "[dfAcc, dfAUC] =  ResultsRatioEnsemble(perc = 1, initial_model=SVC(probability=True),weight_support=False)\n",
        "print(\"Data set for accuracy\") #row is number of neighbours \n",
        "print(dfAcc)\n",
        "print(\"Data set for AUC\")\n",
        "print(dfAUC)"
      ],
      "execution_count": null,
      "outputs": [
        {
          "output_type": "stream",
          "text": [
            "Data set for accuracy\n",
            "   SMOTEBagg   RUSBagg\n",
            "1   0.696429  0.660714\n",
            "Data set for AUC\n",
            "   SMOTEBagg   RUSBagg\n",
            "1   0.689291  0.713424\n"
          ],
          "name": "stdout"
        }
      ]
    },
    {
      "cell_type": "markdown",
      "metadata": {
        "id": "WL1t9_dHIg4l"
      },
      "source": [
        "## Logistic Regression"
      ]
    },
    {
      "cell_type": "code",
      "metadata": {
        "colab": {
          "base_uri": "https://localhost:8080/"
        },
        "id": "IK5TL0RpIycU",
        "outputId": "3a115fee-abf3-4e85-d680-b71e5a0a7978"
      },
      "source": [
        "[dfAcc, dfAUC] =  ResultsRatioEnsemble(perc = 0.6, initial_model=LogisticRegression(),weight_support=False)\n",
        "print(\"Data set for accuracy\") #row is number of neighbours \n",
        "print(dfAcc)\n",
        "print(\"Data set for AUC\")\n",
        "print(dfAUC)"
      ],
      "execution_count": null,
      "outputs": [
        {
          "output_type": "stream",
          "text": [
            "Data set for accuracy\n",
            "   SMOTEBagg   RUSBagg\n",
            "1   0.714286  0.714286\n",
            "Data set for AUC\n",
            "   SMOTEBagg   RUSBagg\n",
            "1    0.73454  0.742081\n"
          ],
          "name": "stdout"
        }
      ]
    },
    {
      "cell_type": "code",
      "metadata": {
        "colab": {
          "base_uri": "https://localhost:8080/"
        },
        "id": "F5g6mWsnI-I6",
        "outputId": "d644b28f-2c3c-41a5-a1b9-b993535f601b"
      },
      "source": [
        "[dfAcc, dfAUC] =  ResultsRatioEnsemble(perc = 0.8, initial_model=LogisticRegression(),weight_support=False)\n",
        "print(\"Data set for accuracy\") #row is number of neighbours \n",
        "print(dfAcc)\n",
        "print(\"Data set for AUC\")\n",
        "print(dfAUC)"
      ],
      "execution_count": null,
      "outputs": [
        {
          "output_type": "stream",
          "text": [
            "Data set for accuracy\n",
            "   SMOTEBagg   RUSBagg\n",
            "1   0.714286  0.732143\n",
            "Data set for AUC\n",
            "   SMOTEBagg  RUSBagg\n",
            "1   0.739065  0.73454\n"
          ],
          "name": "stdout"
        }
      ]
    },
    {
      "cell_type": "code",
      "metadata": {
        "colab": {
          "base_uri": "https://localhost:8080/"
        },
        "id": "PTRnJCFYI_cL",
        "outputId": "8b3a1ceb-34eb-4afc-cc94-48163e9ca4ca"
      },
      "source": [
        "[dfAcc, dfAUC] =  ResultsRatioEnsemble(perc = 1, initial_model=LogisticRegression(),weight_support=False)\n",
        "print(\"Data set for accuracy\") #row is number of neighbours \n",
        "print(dfAcc)\n",
        "print(\"Data set for AUC\")\n",
        "print(dfAUC)"
      ],
      "execution_count": null,
      "outputs": [
        {
          "output_type": "stream",
          "text": [
            "Data set for accuracy\n",
            "   SMOTEBagg   RUSBagg\n",
            "1   0.678571  0.642857\n",
            "Data set for AUC\n",
            "   SMOTEBagg  RUSBagg\n",
            "1   0.748115  0.74359\n"
          ],
          "name": "stdout"
        }
      ]
    },
    {
      "cell_type": "markdown",
      "metadata": {
        "id": "VALWZK6HJCxG"
      },
      "source": [
        "## Naive Bayes"
      ]
    },
    {
      "cell_type": "code",
      "metadata": {
        "colab": {
          "base_uri": "https://localhost:8080/"
        },
        "id": "5O5PToxkJEId",
        "outputId": "c0a457ea-d4d4-464e-f0a4-a45b6e9a148b"
      },
      "source": [
        "[dfAcc, dfAUC] =  ResultsRatioEnsemble(perc = 0.6, initial_model=GaussianNB(),weight_support=False)\n",
        "print(\"Data set for accuracy\") #row is number of neighbours \n",
        "print(dfAcc)\n",
        "print(\"Data set for AUC\")\n",
        "print(dfAUC)"
      ],
      "execution_count": null,
      "outputs": [
        {
          "output_type": "stream",
          "text": [
            "Data set for accuracy\n",
            "   SMOTEBagg  RUSBagg\n",
            "1   0.767857     0.75\n",
            "Data set for AUC\n",
            "   SMOTEBagg   RUSBagg\n",
            "1   0.726998  0.736048\n"
          ],
          "name": "stdout"
        }
      ]
    },
    {
      "cell_type": "code",
      "metadata": {
        "colab": {
          "base_uri": "https://localhost:8080/"
        },
        "id": "3taRY71XJLKB",
        "outputId": "9ca2c355-4cca-4e0d-a071-38f281ab3693"
      },
      "source": [
        "[dfAcc, dfAUC] =  ResultsRatioEnsemble(perc = 0.8, initial_model=GaussianNB(),weight_support=False)\n",
        "print(\"Data set for accuracy\") #row is number of neighbours \n",
        "print(dfAcc)\n",
        "print(\"Data set for AUC\")\n",
        "print(dfAUC)"
      ],
      "execution_count": null,
      "outputs": [
        {
          "output_type": "stream",
          "text": [
            "Data set for accuracy\n",
            "   SMOTEBagg   RUSBagg\n",
            "1       0.75  0.714286\n",
            "Data set for AUC\n",
            "   SMOTEBagg   RUSBagg\n",
            "1   0.726998  0.726998\n"
          ],
          "name": "stdout"
        }
      ]
    },
    {
      "cell_type": "code",
      "metadata": {
        "colab": {
          "base_uri": "https://localhost:8080/"
        },
        "id": "WELLVr_1JNjz",
        "outputId": "5758077c-32fa-40a8-ec3e-8b8c2a3beb0e"
      },
      "source": [
        "[dfAcc, dfAUC] =  ResultsRatioEnsemble(perc = 1, initial_model=GaussianNB(),weight_support=False)\n",
        "print(\"Data set for accuracy\") #row is number of neighbours \n",
        "print(dfAcc)\n",
        "print(\"Data set for AUC\")\n",
        "print(dfAUC)"
      ],
      "execution_count": null,
      "outputs": [
        {
          "output_type": "stream",
          "text": [
            "Data set for accuracy\n",
            "   SMOTEBagg   RUSBagg\n",
            "1       0.75  0.696429\n",
            "Data set for AUC\n",
            "   SMOTEBagg  RUSBagg\n",
            "1    0.72549  0.73454\n"
          ],
          "name": "stdout"
        }
      ]
    },
    {
      "cell_type": "markdown",
      "metadata": {
        "id": "mhR5bD5KJSbc"
      },
      "source": [
        "## Decision Trees"
      ]
    },
    {
      "cell_type": "code",
      "metadata": {
        "colab": {
          "base_uri": "https://localhost:8080/"
        },
        "id": "vLEQNWtMJUrn",
        "outputId": "19d6e438-3860-4585-bb46-5221a739b84d"
      },
      "source": [
        "[dfAcc, dfAUC] =  ResultsRatioEnsemble(perc = 0.6, initial_model=DecisionTreeClassifier(random_state=11),weight_support=False)\n",
        "print(\"Data set for accuracy\") #row is number of neighbours \n",
        "print(dfAcc)\n",
        "print(\"Data set for AUC\")\n",
        "print(dfAUC)"
      ],
      "execution_count": null,
      "outputs": [
        {
          "output_type": "stream",
          "text": [
            "Data set for accuracy\n",
            "   SMOTEBagg   RUSBagg\n",
            "1   0.696429  0.660714\n",
            "Data set for AUC\n",
            "   SMOTEBagg   RUSBagg\n",
            "1   0.573906  0.626697\n"
          ],
          "name": "stdout"
        }
      ]
    },
    {
      "cell_type": "code",
      "metadata": {
        "colab": {
          "base_uri": "https://localhost:8080/"
        },
        "id": "txZn1AL9JcYO",
        "outputId": "fe4d020e-97c9-4581-dd5f-1e25cb5148e7"
      },
      "source": [
        "[dfAcc, dfAUC] =  ResultsRatioEnsemble(perc = 0.8, initial_model=DecisionTreeClassifier(random_state=11),weight_support=False)\n",
        "print(\"Data set for accuracy\") #row is number of neighbours \n",
        "print(dfAcc)\n",
        "print(\"Data set for AUC\")\n",
        "print(dfAUC)"
      ],
      "execution_count": null,
      "outputs": [
        {
          "output_type": "stream",
          "text": [
            "Data set for accuracy\n",
            "   SMOTEBagg   RUSBagg\n",
            "1   0.678571  0.589286\n",
            "Data set for AUC\n",
            "   SMOTEBagg   RUSBagg\n",
            "1   0.546003  0.588989\n"
          ],
          "name": "stdout"
        }
      ]
    },
    {
      "cell_type": "code",
      "metadata": {
        "colab": {
          "base_uri": "https://localhost:8080/"
        },
        "id": "gOcL_LVdJfMs",
        "outputId": "70f1e8f2-1c5d-4bb6-d9e1-da663c544fca"
      },
      "source": [
        "[dfAcc, dfAUC] =  ResultsRatioEnsemble(perc = 1, initial_model=DecisionTreeClassifier(random_state=11),weight_support=False)\n",
        "print(\"Data set for accuracy\") #row is number of neighbours \n",
        "print(dfAcc)\n",
        "print(\"Data set for AUC\")\n",
        "print(dfAUC)"
      ],
      "execution_count": null,
      "outputs": [
        {
          "output_type": "stream",
          "text": [
            "Data set for accuracy\n",
            "   SMOTEBagg   RUSBagg\n",
            "1   0.642857  0.660714\n",
            "Data set for AUC\n",
            "   SMOTEBagg  RUSBagg\n",
            "1   0.559578  0.61991\n"
          ],
          "name": "stdout"
        }
      ]
    },
    {
      "cell_type": "code",
      "metadata": {
        "colab": {
          "base_uri": "https://localhost:8080/"
        },
        "id": "s8vupNU6Jg_J",
        "outputId": "5d51c1c3-395b-45a2-c9cc-4c8c86da4fe9"
      },
      "source": [
        "[dfAcc, dfAUC] =  ResultsRatioEnsemble(perc = 0.6, initial_model=DecisionTreeClassifier(random_state=11,class_weight=\"balanced\"),weight_support=False)\n",
        "print(\"Data set for accuracy\") #row is number of neighbours \n",
        "print(dfAcc)\n",
        "print(\"Data set for AUC\")\n",
        "print(dfAUC)"
      ],
      "execution_count": null,
      "outputs": [
        {
          "output_type": "stream",
          "text": [
            "Data set for accuracy\n",
            "   SMOTEBagg   RUSBagg\n",
            "1   0.696429  0.607143\n",
            "Data set for AUC\n",
            "   SMOTEBagg   RUSBagg\n",
            "1   0.596531  0.616893\n"
          ],
          "name": "stdout"
        }
      ]
    },
    {
      "cell_type": "code",
      "metadata": {
        "colab": {
          "base_uri": "https://localhost:8080/"
        },
        "id": "0fK8rq5dJx8D",
        "outputId": "e11fcde6-1399-4f05-9ab8-3949e53b846d"
      },
      "source": [
        "[dfAcc, dfAUC] =  ResultsRatioEnsemble(perc = 0.8, initial_model=DecisionTreeClassifier(random_state=11,class_weight=\"balanced\"),weight_support=False)\n",
        "print(\"Data set for accuracy\") #row is number of neighbours \n",
        "print(dfAcc)\n",
        "print(\"Data set for AUC\")\n",
        "print(dfAUC)"
      ],
      "execution_count": null,
      "outputs": [
        {
          "output_type": "stream",
          "text": [
            "Data set for accuracy\n",
            "   SMOTEBagg   RUSBagg\n",
            "1   0.696429  0.607143\n",
            "Data set for AUC\n",
            "   SMOTEBagg   RUSBagg\n",
            "1   0.596531  0.616893\n"
          ],
          "name": "stdout"
        }
      ]
    },
    {
      "cell_type": "code",
      "metadata": {
        "colab": {
          "base_uri": "https://localhost:8080/"
        },
        "id": "0P8V5zrDJ0sU",
        "outputId": "2f91ac86-591e-4e24-a5b1-da00637d7d59"
      },
      "source": [
        "[dfAcc, dfAUC] =  ResultsRatioEnsemble(perc = 1, initial_model=DecisionTreeClassifier(random_state=11,class_weight=\"balanced\"),weight_support=False)\n",
        "print(\"Data set for accuracy\") #row is number of neighbours \n",
        "print(dfAcc)\n",
        "print(\"Data set for AUC\")\n",
        "print(dfAUC)"
      ],
      "execution_count": null,
      "outputs": [
        {
          "output_type": "stream",
          "text": [
            "Data set for accuracy\n",
            "   SMOTEBagg   RUSBagg\n",
            "1   0.642857  0.660714\n",
            "Data set for AUC\n",
            "   SMOTEBagg  RUSBagg\n",
            "1   0.559578  0.61991\n"
          ],
          "name": "stdout"
        }
      ]
    }
  ]
}